{
  "cells": [
    {
      "cell_type": "markdown",
      "metadata": {},
      "source": [
        "---\n",
        "Title: Gas Prices in USA and internationally, historical\n",
        "---\n",
        "\n",
        "\n",
        "# Gas Prices in USA, historical analysis\n",
        "\n",
        "This report is intended to review gas prices in the USA historically for comparison against various claims.\n",
        "\n",
        "One such claim is that the sitting US President has a direct affect on gas prices.\n",
        "\n",
        "------------------------------------------------------------------------\n",
        "\n",
        "## Data from the EIA - US Energy Information Administration\n",
        "\n",
        "This dataframe set `GasPrices_eia_prices_1970_2022` comes from the EIA website as a downloadable CSV.\n",
        "\n",
        "The [EIA](https://www.eia.gov/TOOLS/FAQS/faq.php?id=26&t=10) provides an FAQ for using the data, which includes instructions to download the [CSV](https://www.eia.gov/state/seds/seds-data-complete.php?sid=US#CompleteDataFile) and for a reference [Excel](https://www.eia.gov/totalenergy/data/monthly/index.php#appendices) document that helps with conversion.\n",
        "\n",
        "> \"To obtain the historical prices from the SEDS data, use the CSV file for All States—Prices. In the file, the code for gasoline prices for the transportation sector, in `$/MMBtu`, is: State Abbreviation (in column A) and `MGACD` (in column B). For example, the code for Alaska is `AK—MGACD`. Those prices, in \\$/MMBtu, can be converted to approximate dollars per gallon using the heat contents in Table A3 Petroleum consumption and fuel ethanol. There are 42 U.S. gallons in a barrel.\"\n",
        "\n",
        "The CSV is downloaded from \\> Section: Prices and expenditures \\> Subsection: All price and expenditure estimates \\> SubSubsection: Prices \\> 1970-2022 \\> XLSX CSV ZIP\n",
        "\n",
        "The following shows the barrel prices falling sharply well before 2016's national election, and remaining relatively stable until after the pandemic crashes of 2020.\n"
      ],
      "id": "5837ae5d"
    },
    {
      "cell_type": "code",
      "metadata": {},
      "source": [
        "import pandas as pd\n",
        "import matplotlib.pyplot as plt\n",
        "\n",
        "# Path to the CSV file\n",
        "file_path = 'C:/Users/dwolfe/Documents/Demo_Skills_SampleCode/Projects/National_Market_Markers/_dataframes/GasPrices_eia_prices_1970_2022.csv'\n",
        "\n",
        "# Read the CSV file\n",
        "df = pd.read_csv(file_path)\n",
        "\n",
        "# Filter rows where 'MSN' column contains 'MGACD'\n",
        "filtered_df = df[df['MSN'].str.contains('MGACD', case=False, na=False)]\n",
        "\n",
        "# Calculate the average for each year for the filtered data\n",
        "average_prices = filtered_df.iloc[:, 3:].mean()  # Assumes year data starts at the 4th column\n",
        "\n",
        "# Create a line plot\n",
        "plt.figure(figsize=(10, 5))  # Set the figure size\n",
        "plt.plot(average_prices.index, average_prices.values, marker='o')  # Plot the average prices\n",
        "plt.title('Average Gas Prices Over Years for MGACD')  # Add a title\n",
        "plt.xlabel('Year')  # Add x-axis label\n",
        "plt.ylabel('Average Price')  # Add y-axis label\n",
        "plt.grid(True)  # Add a grid\n",
        "plt.xticks(rotation=45)  # Rotate x-axis labels for better readability\n",
        "plt.tight_layout()  # Adjust layout to make room for the rotated x-axis labels\n",
        "plt.show()  # Display the plot"
      ],
      "id": "8d6aeb45",
      "execution_count": null,
      "outputs": []
    },
    {
      "cell_type": "markdown",
      "metadata": {},
      "source": [
        "------------------------------------------------------------------------\n",
        "\n",
        "## Data from Our World in Data\n",
        "\n",
        "Our World in Data provides an international dataset to review.\n",
        "\n",
        "This dataframe set `GasePrices_OWD_crude-oil-prices.csv` comes from the Our World in Data website as a downloadable CSV.\n",
        "\n",
        "> “Data Page: Oil price - Crude prices since 1861”, part of the following publication: Hannah Ritchie, Pablo Rosado and Max Roser (2023) - “Energy”. Data adapted from Energy Institute. Retrieved from https://ourworldindata.org/grapher/crude-oil-prices \\[online resource\\]\n",
        "\n",
        "These international crude oil prices show the same trends, clearly indicating that the US President is unrelated to gas prices.\n"
      ],
      "id": "2b6cf3cf"
    },
    {
      "cell_type": "code",
      "metadata": {},
      "source": [
        "import pandas as pd\n",
        "import matplotlib.pyplot as plt\n",
        "\n",
        "# Path to the CSV file\n",
        "file_path = 'C:/Users/dwolfe/Documents/Demo_Skills_SampleCode/Projects/National_Market_Markers/_dataframes/GasPrices_owd_intl_1861_2023.csv'\n",
        "\n",
        "# Read the CSV file\n",
        "df = pd.read_csv(file_path)\n",
        "\n",
        "# Display the first few rows to verify the data\n",
        "print(df.head())\n",
        "\n",
        "# Filter data for years 1970 to 2023\n",
        "filtered_df = df[(df['Year'] >= 1970) & (df['Year'] <= 2023)]\n",
        "\n",
        "# Plotting the filtered data\n",
        "plt.figure(figsize=(12, 6))  # Set figure size\n",
        "plt.plot(filtered_df['Year'], filtered_df['Oil price - Crude prices since 1861 (current US$)'], marker='o', linestyle='-')\n",
        "plt.title('International Crude Oil Prices from 1970 to 2023')\n",
        "plt.xlabel('Year')\n",
        "plt.ylabel('Oil Price (current US$)')\n",
        "plt.grid(True)\n",
        "plt.xticks(rotation=45)  # Rotate x-axis labels for better readability\n",
        "plt.tight_layout()  # Adjust layout\n",
        "plt.show()  # Display the plot"
      ],
      "id": "dfff8617",
      "execution_count": null,
      "outputs": []
    },
    {
      "cell_type": "markdown",
      "metadata": {},
      "source": [
        "------------------------------------------------------------------------\n",
        "\n",
        "## Placeholder TBC...\n",
        "\n",
        "Text\n"
      ],
      "id": "9b3dff39"
    }
  ],
  "metadata": {
    "kernelspec": {
      "display_name": "Python 3",
      "language": "python",
      "name": "python3"
    }
  },
  "nbformat": 4,
  "nbformat_minor": 5
}